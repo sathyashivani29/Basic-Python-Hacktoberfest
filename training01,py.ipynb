{
  "nbformat": 4,
  "nbformat_minor": 0,
  "metadata": {
    "colab": {
      "provenance": [],
      "authorship_tag": "ABX9TyMUrtNPs2MTXElgwZ/wrgai",
      "include_colab_link": true
    },
    "kernelspec": {
      "name": "python3",
      "display_name": "Python 3"
    },
    "language_info": {
      "name": "python"
    }
  },
  "cells": [
    {
      "cell_type": "markdown",
      "metadata": {
        "id": "view-in-github",
        "colab_type": "text"
      },
      "source": [
        "<a href=\"https://colab.research.google.com/github/sathyashivani29/Basic-Python-Hacktoberfest/blob/main/training01%2Cpy.ipynb\" target=\"_parent\"><img src=\"https://colab.research.google.com/assets/colab-badge.svg\" alt=\"Open In Colab\"/></a>"
      ]
    },
    {
      "cell_type": "code",
      "execution_count": null,
      "metadata": {
        "colab": {
          "base_uri": "https://localhost:8080/"
        },
        "id": "GuRL5FtJp0zH",
        "outputId": "cc1481af-c9fc-43cc-a8d9-3f8386772bf3"
      },
      "outputs": [
        {
          "output_type": "stream",
          "name": "stdout",
          "text": [
            "<class 'int'>\n"
          ]
        }
      ],
      "source": [
        "x=10\n",
        "print(type(x))"
      ]
    },
    {
      "cell_type": "code",
      "source": [
        "x=1.6\n",
        "print(type(x))"
      ],
      "metadata": {
        "colab": {
          "base_uri": "https://localhost:8080/"
        },
        "id": "cXqnik43qCWI",
        "outputId": "ff523b9f-fe73-4f9d-aa99-781296a87bd9"
      },
      "execution_count": null,
      "outputs": [
        {
          "output_type": "stream",
          "name": "stdout",
          "text": [
            "<class 'float'>\n"
          ]
        }
      ]
    },
    {
      "cell_type": "code",
      "source": [
        "x=\"sathya shivani\"\n",
        "print(type(x))"
      ],
      "metadata": {
        "colab": {
          "base_uri": "https://localhost:8080/"
        },
        "id": "RQHDPYXgqKGu",
        "outputId": "5d91832a-6f94-461a-b1c3-5436540f51fc"
      },
      "execution_count": null,
      "outputs": [
        {
          "output_type": "stream",
          "name": "stdout",
          "text": [
            "<class 'str'>\n"
          ]
        }
      ]
    },
    {
      "cell_type": "code",
      "source": [
        "x=1\n",
        "y=6\n",
        "print(id(x))\n",
        "print(id(y))"
      ],
      "metadata": {
        "colab": {
          "base_uri": "https://localhost:8080/"
        },
        "id": "42QrlJ57qRd1",
        "outputId": "fd7103fe-5c77-4333-83b2-ecf851415e3b"
      },
      "execution_count": null,
      "outputs": [
        {
          "output_type": "stream",
          "name": "stdout",
          "text": [
            "11530912\n",
            "11531072\n"
          ]
        }
      ]
    },
    {
      "cell_type": "code",
      "source": [
        "x=1\n",
        "y=x\n",
        "print(id(x))\n",
        "print(id(y))"
      ],
      "metadata": {
        "colab": {
          "base_uri": "https://localhost:8080/"
        },
        "id": "raugAVxproh9",
        "outputId": "75d37ee9-db1c-4cae-9f8d-d96930fd5945"
      },
      "execution_count": null,
      "outputs": [
        {
          "output_type": "stream",
          "name": "stdout",
          "text": [
            "11530912\n",
            "11530912\n"
          ]
        }
      ]
    },
    {
      "cell_type": "code",
      "source": [
        "x=input(\"Enter the value of x\")\n",
        "y=input(\"Enter the value of y\")\n",
        "print(x+y)"
      ],
      "metadata": {
        "colab": {
          "base_uri": "https://localhost:8080/"
        },
        "id": "HU_ykOHKsZKX",
        "outputId": "781b7f1f-3aec-4905-a69e-76a0bee34631"
      },
      "execution_count": null,
      "outputs": [
        {
          "output_type": "stream",
          "name": "stdout",
          "text": [
            "Enter the value of x10\n",
            "Enter the value of y15\n",
            "1015\n"
          ]
        }
      ]
    },
    {
      "cell_type": "code",
      "source": [
        "x=int(input(\"Enter the value of x\"))\n",
        "y=int(input(\"Enter the value of y\"))\n",
        "print(x+y)"
      ],
      "metadata": {
        "colab": {
          "base_uri": "https://localhost:8080/"
        },
        "id": "gYZSjNxtu8V_",
        "outputId": "1bb47c6d-3063-4ef6-ea6f-c1fe9b53ee2f"
      },
      "execution_count": null,
      "outputs": [
        {
          "output_type": "stream",
          "name": "stdout",
          "text": [
            "Enter the value of x10\n",
            "Enter the value of y15\n",
            "25\n"
          ]
        }
      ]
    },
    {
      "cell_type": "code",
      "source": [
        "x=int(input(\"enter the year of birth\"))\n",
        "y=int(input(\"enter the present year\"))\n",
        "print(y-x)"
      ],
      "metadata": {
        "colab": {
          "base_uri": "https://localhost:8080/"
        },
        "id": "x6cvNJqDthqa",
        "outputId": "f05b0e9e-09c0-4e13-b27c-0679c1a11978"
      },
      "execution_count": null,
      "outputs": [
        {
          "output_type": "stream",
          "name": "stdout",
          "text": [
            "enter the year of birth2003\n",
            "enter the present year2023\n",
            "20\n"
          ]
        }
      ]
    },
    {
      "cell_type": "code",
      "source": [
        "import sys\n",
        "x=60\n",
        "sys.getsizeof(x)\n",
        "z=\"sathya\"\n",
        "sys.getsizeof(z)\n"
      ],
      "metadata": {
        "colab": {
          "base_uri": "https://localhost:8080/"
        },
        "id": "3MW10JX7vHDd",
        "outputId": "44eeb2fb-7c43-4db2-d2da-1d12c67ab003"
      },
      "execution_count": null,
      "outputs": [
        {
          "output_type": "execute_result",
          "data": {
            "text/plain": [
              "55"
            ]
          },
          "metadata": {},
          "execution_count": 14
        }
      ]
    },
    {
      "cell_type": "code",
      "source": [
        "n=int(input(\"Enter the no.of elements:\"))\n",
        "sum=0\n",
        "for i in range(0,n):\n",
        "  x=int(input())\n",
        "  sum=sum+x\n",
        "  avg=sum/n\n",
        "  print(avg)\n"
      ],
      "metadata": {
        "colab": {
          "base_uri": "https://localhost:8080/"
        },
        "id": "SPDMnSW_wIlI",
        "outputId": "e96eb5f4-fbc7-4e3b-c987-602471b8d0f8"
      },
      "execution_count": null,
      "outputs": [
        {
          "output_type": "stream",
          "name": "stdout",
          "text": [
            "Enter the no.of elements:4\n",
            "14\n",
            "3.5\n",
            "16\n",
            "7.5\n",
            "29\n",
            "14.75\n",
            "33\n",
            "23.0\n"
          ]
        }
      ]
    },
    {
      "cell_type": "code",
      "source": [
        "print(\"Hi! Grandma\")\n",
        "print(\"How are you\")"
      ],
      "metadata": {
        "id": "QjSKnLly8u_M",
        "colab": {
          "base_uri": "https://localhost:8080/"
        },
        "outputId": "8113d56d-2ad4-4e6c-c202-deb064319418"
      },
      "execution_count": null,
      "outputs": [
        {
          "output_type": "stream",
          "name": "stdout",
          "text": [
            "Hi! Grandma\n",
            "How are you\n"
          ]
        }
      ]
    },
    {
      "cell_type": "code",
      "source": [
        "x=str(input(\"Enter the msg\"))\n",
        "print(x)"
      ],
      "metadata": {
        "colab": {
          "base_uri": "https://localhost:8080/"
        },
        "id": "aJ6r-biq_S-x",
        "outputId": "532528af-16c0-49d4-fa10-e9eb537d1b84"
      },
      "execution_count": null,
      "outputs": [
        {
          "output_type": "stream",
          "name": "stdout",
          "text": [
            "Enter the msgHi! Grandma \n",
            "Hi! Grandma \n"
          ]
        }
      ]
    },
    {
      "cell_type": "code",
      "source": [
        "x=int(input(\"Enter the angle value\"))\n",
        "y=int(input(\"Enter the angle value\"))\n",
        "z=180\n",
        "s=z-x+y\n",
        "print(s)"
      ],
      "metadata": {
        "colab": {
          "base_uri": "https://localhost:8080/"
        },
        "id": "2h7IuW-UABB8",
        "outputId": "da601908-7a9f-4170-a9e6-4a067f9b73fd"
      },
      "execution_count": null,
      "outputs": [
        {
          "output_type": "stream",
          "name": "stdout",
          "text": [
            "Enter the angle value45\n",
            "Enter the angle value65\n",
            "200\n"
          ]
        }
      ]
    },
    {
      "cell_type": "code",
      "source": [
        "print('\"Hi!Grandma\"')"
      ],
      "metadata": {
        "colab": {
          "base_uri": "https://localhost:8080/"
        },
        "id": "VGXry-PZAxy8",
        "outputId": "08db072c-1e7e-4f0f-b152-b3c429266a0c"
      },
      "execution_count": null,
      "outputs": [
        {
          "output_type": "stream",
          "name": "stdout",
          "text": [
            "\"Hi!Grandma\"\n"
          ]
        }
      ]
    },
    {
      "cell_type": "code",
      "source": [
        "a=60\n",
        "b=30\n",
        "print(a+b)\n",
        "print(a-b)\n",
        "print(a*b)\n",
        "print(a/b)\n",
        "print(a//b)\n",
        "print(a**b)\n",
        "\n",
        "\n"
      ],
      "metadata": {
        "colab": {
          "base_uri": "https://localhost:8080/"
        },
        "id": "xA_zJrxCBXbI",
        "outputId": "f814b524-2502-4ef4-f597-2ce79dbbd13e"
      },
      "execution_count": null,
      "outputs": [
        {
          "output_type": "stream",
          "name": "stdout",
          "text": [
            "90\n",
            "30\n",
            "1800\n",
            "2.0\n",
            "2\n",
            "221073919720733357899776000000000000000000000000000000\n"
          ]
        }
      ]
    },
    {
      "cell_type": "code",
      "source": [
        "x=10\n",
        "y=3\n",
        "add= x+y\n",
        "sub= x-y\n",
        "mul= x*y\n",
        "div= x/y\n",
        "modulo= x//y\n",
        "ast=x**y\n",
        "print(\"Addition:\", add)\n",
        "print(\"Subtraction:\", sub)\n",
        "print(\"Multiplication:\", mul)\n",
        "print(\"Division:\", div)\n",
        "print(\"Modulo:\", modulo)\n",
        "print(\"Exponential:\", ast)\n",
        "s= round(div,2)\n",
        "print(s)\n",
        "\n"
      ],
      "metadata": {
        "colab": {
          "base_uri": "https://localhost:8080/"
        },
        "id": "m6cQVfbrDqFt",
        "outputId": "d7e333f9-650b-47ec-87fd-5f4d05c34787"
      },
      "execution_count": null,
      "outputs": [
        {
          "output_type": "stream",
          "name": "stdout",
          "text": [
            "Addition: 13\n",
            "Subtraction: 7\n",
            "Multiplication: 30\n",
            "Division: 3.3333333333333335\n",
            "Modulo: 3\n",
            "Exponential: 1000\n",
            "3.33\n"
          ]
        }
      ]
    },
    {
      "cell_type": "code",
      "source": [
        "#write a program using relational operators \n",
        "x=14\n",
        "y=29\n",
        "print(x>y)\n",
        "print(x<y)\n",
        "print(x==y)\n",
        "print(x!=y)\n",
        "print(x>=y)\n",
        "print(x<=y)"
      ],
      "metadata": {
        "colab": {
          "base_uri": "https://localhost:8080/"
        },
        "id": "OxNZejUuDOt1",
        "outputId": "da1e8c85-7bae-4687-831b-bf4ef7aba75d"
      },
      "execution_count": null,
      "outputs": [
        {
          "output_type": "stream",
          "name": "stdout",
          "text": [
            "False\n",
            "True\n",
            "False\n",
            "True\n",
            "False\n",
            "True\n"
          ]
        }
      ]
    },
    {
      "cell_type": "code",
      "source": [
        "# AND,OR,XOR\n",
        "x=7\n",
        "y=5\n",
        "print(x<7 and x<5)\n",
        "print(x<7 or x<5)\n",
        "print(not(x<7 and x<5))"
      ],
      "metadata": {
        "colab": {
          "base_uri": "https://localhost:8080/"
        },
        "id": "5_K_7ByUKLmp",
        "outputId": "4ffb5381-7b5d-4fe9-c32c-321fe63b2d77"
      },
      "execution_count": null,
      "outputs": [
        {
          "output_type": "stream",
          "name": "stdout",
          "text": [
            "False\n",
            "False\n",
            "True\n"
          ]
        }
      ]
    },
    {
      "cell_type": "code",
      "source": [
        "# to find bitwise\n",
        "x=10\n",
        "print(x<<2)\n",
        "print(x>>2)"
      ],
      "metadata": {
        "colab": {
          "base_uri": "https://localhost:8080/"
        },
        "id": "vP9Ryp9bNMzQ",
        "outputId": "352f97b3-0b3f-488c-a2f4-c73dc483eb29"
      },
      "execution_count": null,
      "outputs": [
        {
          "output_type": "stream",
          "name": "stdout",
          "text": [
            "40\n",
            "2\n"
          ]
        }
      ]
    },
    {
      "cell_type": "code",
      "source": [
        "# assign the values of XOR,OR,AND using operators\n",
        "x=7\n",
        "print(5//x)\n",
        "print(7!=x)"
      ],
      "metadata": {
        "colab": {
          "base_uri": "https://localhost:8080/"
        },
        "id": "yLSDc-qjNqb5",
        "outputId": "46e3d6ce-6f4d-4609-856b-1ffec2972563"
      },
      "execution_count": null,
      "outputs": [
        {
          "output_type": "stream",
          "name": "stdout",
          "text": [
            "0\n",
            "False\n"
          ]
        }
      ]
    },
    {
      "cell_type": "code",
      "source": [
        "x=20\n",
        "y=6\n",
        "div= x/y\n",
        "s=round(div,3)\n",
        "print(s)"
      ],
      "metadata": {
        "colab": {
          "base_uri": "https://localhost:8080/"
        },
        "id": "vAcq2h08PWiF",
        "outputId": "15bf372c-9e23-41e7-e348-dc383fa16859"
      },
      "execution_count": null,
      "outputs": [
        {
          "output_type": "stream",
          "name": "stdout",
          "text": [
            "3.333\n"
          ]
        }
      ]
    },
    {
      "cell_type": "code",
      "source": [
        "A=50\n",
        "B=25\n",
        "A-=B\n",
        "A*=B\n",
        "A/=B\n",
        "A//=B\n",
        "A**=B\n",
        "print(A)\n",
        "\n"
      ],
      "metadata": {
        "colab": {
          "base_uri": "https://localhost:8080/"
        },
        "id": "8H3vWvsiRol4",
        "outputId": "ed24700d-3f8c-44b9-c6a4-38f81ea67607"
      },
      "execution_count": null,
      "outputs": [
        {
          "output_type": "stream",
          "name": "stdout",
          "text": [
            "1.0\n"
          ]
        }
      ]
    },
    {
      "cell_type": "code",
      "source": [
        "\"\"\"Three friends started a company with a lot of effort and they wanted to name it with all three friends starting letters being arranged in the alphabatical order. write a python program\n",
        "Input: RAM\n",
        "      RAMESH\n",
        "       RAJA\n",
        "Output: RRR\"\"\"\n",
        "\n",
        "n=input()\n",
        "m=input()\n",
        "l=input()\n",
        "arr=[]\n",
        "arr.append(n[0:1])\n",
        "arr.append(m[0:1])\n",
        "arr.append(l[0:1])\n",
        "arr.sort()\n",
        "for i in arr:\n",
        "  print(i,end=\"\")\n",
        "\n",
        "\n"
      ],
      "metadata": {
        "colab": {
          "base_uri": "https://localhost:8080/"
        },
        "id": "mDZp62CWpP2u",
        "outputId": "6fb91bd5-e61a-43fa-9965-b45eaa1d647f"
      },
      "execution_count": 14,
      "outputs": [
        {
          "output_type": "stream",
          "name": "stdout",
          "text": [
            "Ramesh\n",
            "Ram\n",
            "Raja\n",
            "RRR"
          ]
        }
      ]
    },
    {
      "cell_type": "code",
      "source": [
        "#write a python program to swap two numbers using third variable\n",
        "x=14\n",
        "y=15\n",
        "\n",
        "temp=x\n",
        "x=y\n",
        "y=temp\n",
        "\n",
        "print(\"value of x\", x)\n",
        "print(\"value of y\", y)\n"
      ],
      "metadata": {
        "colab": {
          "base_uri": "https://localhost:8080/"
        },
        "id": "2BDULeUGprCA",
        "outputId": "ff028c96-be38-4efb-866a-db00ae46f6fa"
      },
      "execution_count": null,
      "outputs": [
        {
          "output_type": "stream",
          "name": "stdout",
          "text": [
            "value of x 15\n",
            "value of y 14\n"
          ]
        }
      ]
    },
    {
      "cell_type": "code",
      "source": [
        "#RAkesh generating a code name of his friends. Rakesh asks them to choose any 7-digit numbers. Rakesh extracts the last two digits and do concatenation with the participants name. the concatented output is the code name for the participants\n",
        "#Input: Enter your name: Mahish\n",
        "#Enter 7-digit number: 3347107\n",
        "#Your code name is: Mahi07\n",
        "\n",
        "name='Mahish'\n",
        "len(name)\n",
        "name[0:4]\n",
        "number='3347107'\n",
        "len(number)\n",
        "number[5:7]\n",
        "codename = name+number\n",
        "print(codename)\n"
      ],
      "metadata": {
        "colab": {
          "base_uri": "https://localhost:8080/"
        },
        "id": "sf3LUhWysQvl",
        "outputId": "2c22020d-6975-4b61-ca36-3fe6c2b66ea9"
      },
      "execution_count": null,
      "outputs": [
        {
          "output_type": "stream",
          "name": "stdout",
          "text": [
            "Mahish3347107\n"
          ]
        }
      ]
    },
    {
      "cell_type": "code",
      "source": [
        "name=input(\"Enter the name\")\n",
        "x=(name[0:4])\n",
        "print(x)\n",
        "number=str(input(\"Enter the number\"))\n",
        "y=(number[5:7])\n",
        "print(y)\n",
        "print(x+y)\n"
      ],
      "metadata": {
        "colab": {
          "base_uri": "https://localhost:8080/"
        },
        "id": "ZuNO0bCw3JnH",
        "outputId": "a1d3be11-e811-40c6-c08b-fb3252b61cad"
      },
      "execution_count": null,
      "outputs": [
        {
          "output_type": "stream",
          "name": "stdout",
          "text": [
            "Enter the namemahish\n",
            "mahi\n",
            "Enter the number3347107\n",
            "07\n",
            "mahi07\n"
          ]
        }
      ]
    },
    {
      "cell_type": "code",
      "source": [
        "#Gauthm loves super heros, he used to imagine himself to be a hero. one day his teacher was taking a class about shapes and asked the students to find the area of the triangle using heros formula. gautham misheard \n",
        "#this as heros formula and was curious to discover the heros formula for finding the area of the triangle. help gautham to slove his math problem by using the correct logic in your code\n",
        "\n",
        "#Input: enter the length of side A:6.8\n",
        "#7.3\n",
        "#5.4\n",
        "#Output:17.5\n",
        "\n",
        "import math\n",
        "x=float(input(\"Enter length of side of traingle\"))\n",
        "y=float(input(\"Enter length of side of traingle\"))\n",
        "z=float(input(\"Enter length of side of traingle\"))\n",
        "s=(x+y+z)/2\n",
        "print(s)\n",
        "print(math.sqrt(s*(s-x)*(s-y)*(s-z)))"
      ],
      "metadata": {
        "colab": {
          "base_uri": "https://localhost:8080/"
        },
        "id": "9zHBXRnrBEQD",
        "outputId": "155e49c8-e1e8-48bf-dedd-ceb25555ee16"
      },
      "execution_count": null,
      "outputs": [
        {
          "output_type": "stream",
          "name": "stdout",
          "text": [
            "Enter length of side of traingle6.8\n",
            "Enter length of side of traingle7.3\n",
            "Enter length of side of traingle5.4\n",
            "9.75\n",
            "17.508179338526322\n"
          ]
        }
      ]
    },
    {
      "cell_type": "code",
      "source": [
        "#Rossum, was working as a captain of the giant ship. He was travelling from India to various countries around the world. The days of the travel may differ from one country to another.\n",
        "#to plan the upcoming travel the johnson captain of the ship would like to know the travel days in the year:month:day format \n",
        "#input:\n",
        "#enter the days:5768\n",
        "#output:\n",
        "#15years:9months:16 days\n",
        "\n",
        "x=int(input(\"Enter the no.of days:\"))\n",
        "years=x//365\n",
        "print(years)\n",
        "months=(x-years*365)//30\n",
        "print(months)\n",
        "days=(x-years*365-months*31)\n",
        "print(days)\n",
        "\n",
        "\n",
        "\n"
      ],
      "metadata": {
        "colab": {
          "base_uri": "https://localhost:8080/"
        },
        "id": "PFmLxoF9C06l",
        "outputId": "789a4efc-7d93-450c-9799-478ace361d57"
      },
      "execution_count": null,
      "outputs": [
        {
          "output_type": "stream",
          "name": "stdout",
          "text": [
            "Enter the no.of days:5768\n",
            "15\n",
            "9\n",
            "14\n"
          ]
        }
      ]
    },
    {
      "cell_type": "code",
      "source": [
        "#Write a program to convert decimal number into binary,octal, hexadecimal\n",
        "dec=10\n",
        "print(bin(dec))\n",
        "print(oct(dec))\n",
        "print(hex(dec))"
      ],
      "metadata": {
        "id": "cf0V3QYrCaf1",
        "colab": {
          "base_uri": "https://localhost:8080/"
        },
        "outputId": "1d8e985c-5b5b-46dd-c0a9-05b67bbb2078"
      },
      "execution_count": null,
      "outputs": [
        {
          "output_type": "stream",
          "name": "stdout",
          "text": [
            "0b1010\n",
            "0o12\n",
            "0xa\n"
          ]
        }
      ]
    }
  ]
}