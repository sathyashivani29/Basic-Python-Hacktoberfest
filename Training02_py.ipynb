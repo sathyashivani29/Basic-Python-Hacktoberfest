{
  "nbformat": 4,
  "nbformat_minor": 0,
  "metadata": {
    "colab": {
      "provenance": [],
      "authorship_tag": "ABX9TyNbAOZOJihfiKxsu/e/V0iu",
      "include_colab_link": true
    },
    "kernelspec": {
      "name": "python3",
      "display_name": "Python 3"
    },
    "language_info": {
      "name": "python"
    }
  },
  "cells": [
    {
      "cell_type": "markdown",
      "metadata": {
        "id": "view-in-github",
        "colab_type": "text"
      },
      "source": [
        "<a href=\"https://colab.research.google.com/github/sathyashivani29/Basic-Python-Hacktoberfest/blob/main/Training02_py.ipynb\" target=\"_parent\"><img src=\"https://colab.research.google.com/assets/colab-badge.svg\" alt=\"Open In Colab\"/></a>"
      ]
    },
    {
      "cell_type": "code",
      "execution_count": null,
      "metadata": {
        "colab": {
          "base_uri": "https://localhost:8080/"
        },
        "id": "xEy8WKp4s6rZ",
        "outputId": "729ccc30-f825-40e2-8570-50a8c7c22949"
      },
      "outputs": [
        {
          "output_type": "stream",
          "name": "stdout",
          "text": [
            "['bread', 'biscuits', 'chocolate', 'milk']\n",
            "<class 'list'>\n"
          ]
        }
      ],
      "source": [
        "#list:\n",
        "groceries = [\"bread\",\"biscuits\",\"chocolate\"]\n",
        "groceries.append(\"milk\")\n",
        "print(groceries)\n",
        "print(type(groceries))"
      ]
    },
    {
      "cell_type": "code",
      "source": [
        "#list:\n",
        "groceries = [\"bread\",\"biscuits\",\"chocolate\"]\n",
        "groceries.append(\"milk\")\n",
        "print(groceries)\n",
        "groceries.extend(['x','y'])\n",
        "print(groceries)\n",
        "print(type(groceries))"
      ],
      "metadata": {
        "colab": {
          "base_uri": "https://localhost:8080/"
        },
        "id": "n9DOenjozMtF",
        "outputId": "86a93d99-1d29-4a88-b542-ccb768678dc1"
      },
      "execution_count": null,
      "outputs": [
        {
          "output_type": "stream",
          "name": "stdout",
          "text": [
            "['bread', 'biscuits', 'chocolate', 'milk']\n",
            "['bread', 'biscuits', 'chocolate', 'milk', 'x', 'y']\n",
            "<class 'list'>\n"
          ]
        }
      ]
    },
    {
      "cell_type": "code",
      "source": [
        "dict1 = {1:['one','three'],2:'two'}\n",
        "print(dict1)\n",
        "print(type(dict1))\n",
        "print(dict1[1])"
      ],
      "metadata": {
        "colab": {
          "base_uri": "https://localhost:8080/"
        },
        "id": "RojV7oRQzxnb",
        "outputId": "2ebf4fec-0da2-4312-d5f0-103ffb902e40"
      },
      "execution_count": null,
      "outputs": [
        {
          "output_type": "stream",
          "name": "stdout",
          "text": [
            "{1: ['one', 'three'], 2: 'two'}\n",
            "<class 'dict'>\n",
            "['one', 'three']\n"
          ]
        }
      ]
    },
    {
      "cell_type": "code",
      "source": [
        "#set\n",
        "s1 = {1,5,6,4,2,3}\n",
        "print(s1)\n"
      ],
      "metadata": {
        "colab": {
          "base_uri": "https://localhost:8080/"
        },
        "id": "cijjdHJm04xY",
        "outputId": "afe035b5-b020-429a-8f3f-f02f89943f42"
      },
      "execution_count": null,
      "outputs": [
        {
          "output_type": "stream",
          "name": "stdout",
          "text": [
            "{1, 2, 3, 4, 5, 6}\n"
          ]
        }
      ]
    },
    {
      "cell_type": "code",
      "source": [
        "list1=tuple((1,2,4,5,6))\n",
        "print(list1)"
      ],
      "metadata": {
        "colab": {
          "base_uri": "https://localhost:8080/"
        },
        "id": "qUJx-Blw3067",
        "outputId": "2e99978c-90aa-4b5d-f08f-49af2b58b2ba"
      },
      "execution_count": null,
      "outputs": [
        {
          "output_type": "stream",
          "name": "stdout",
          "text": [
            "(1, 2, 4, 5, 6)\n"
          ]
        }
      ]
    },
    {
      "cell_type": "code",
      "source": [
        "\n",
        " #write a program to take mark as input and display wheather it is pass (or) fail. Consider 40 is pass mark.\n",
        " \n",
        "Marks=(int(input(\"Enter the marks:\")))\n",
        "if (Marks>=40):\n",
        "   print (\"pass\")\n",
        "else:\n",
        "    print (\"fail\")\n",
        "\n"
      ],
      "metadata": {
        "colab": {
          "base_uri": "https://localhost:8080/"
        },
        "id": "pWtnOp8_4iBD",
        "outputId": "98412111-75b2-43f9-9029-8645ada81d9b"
      },
      "execution_count": null,
      "outputs": [
        {
          "output_type": "stream",
          "name": "stdout",
          "text": [
            "Enter the marks:53\n",
            "pass\n"
          ]
        }
      ]
    },
    {
      "cell_type": "code",
      "source": [
        "a=(input(\"Enter the name:  \"))\n",
        "b=(input(\"Enter the registration the number:   \"))\n",
        "c=(input(\"Enter the D.O.B:  \"))\n",
        "d=int(input(\"Marks of sub1:   \"))\n",
        "e=int(input(\"Marks of sub2:   \"))\n",
        "f=int(input(\"Marks of sub3:   \"))\n",
        "T= d+e+f\n",
        "print(\"Total marks:\", T)\n",
        "if(251<=T<=300):\n",
        "    print(\"'O'grade\")\n",
        "elif(201<=T<=250):\n",
        "    print(\"'A'grade\")\n",
        "elif(151<=T<=200):\n",
        "    print(\"'B'grade\")\n",
        "elif(125<=x<=150):\n",
        "    print(\"'P'grade\")\n",
        "else:\n",
        "    print(\"'F'grade\")\n",
        "if(T>=125):\n",
        "   print(\"Pass\")\n",
        "else:\n",
        "   print(\"Fail\")\n"
      ],
      "metadata": {
        "id": "d1YRPQVBE2I5",
        "colab": {
          "base_uri": "https://localhost:8080/"
        },
        "outputId": "6a651a15-8298-40b8-efbc-375c4d5e10b6"
      },
      "execution_count": null,
      "outputs": [
        {
          "output_type": "stream",
          "name": "stdout",
          "text": [
            "Enter the name:  B.sathya shivani\n",
            "Enter the registration the number:   322010320014\n",
            "Enter the D.O.B:  04-03-2003\n",
            "Marks of sub1:   60\n",
            "Marks of sub2:   75\n",
            "Marks of sub3:   70\n",
            "Total marks: 205\n",
            "'A'grade\n",
            "Pass\n"
          ]
        }
      ]
    },
    {
      "cell_type": "code",
      "source": [
        "#Read the marks of the students and then print the grade.\n",
        "#80-100-->'d grade'\n",
        "#60-79-->'A grade'\n",
        "#40-59-->'B grade'\n",
        "#35-39-->'p grade'\n",
        "#<35 --> 'F grade'\n",
        "\n",
        "x=int(input(\"Enter the marks of the students:\"))\n",
        "if(80<=x<=100):\n",
        "    print(\"'O'grade\")\n",
        "elif(60<=x<=79):\n",
        "    print(\"'A'grade\")\n",
        "elif(40<=x<=59):\n",
        "    print(\"'B'grade\")\n",
        "elif(35<=x<=39):\n",
        "    print(\"'P'grade\")\n",
        "else:\n",
        "    print(\"'F'grade\")"
      ],
      "metadata": {
        "id": "-nSAKXuNL0N0",
        "colab": {
          "base_uri": "https://localhost:8080/"
        },
        "outputId": "3519c6f7-10f9-4d41-c95a-c8cb655fd172"
      },
      "execution_count": null,
      "outputs": [
        {
          "output_type": "stream",
          "name": "stdout",
          "text": [
            "Enter the marks of the students:65\n",
            "'A'grade\n"
          ]
        }
      ]
    },
    {
      "cell_type": "code",
      "source": [
        "'''Company decides to give bonus to all its employees on Diwali. A 5% bonus on salary is given to male workers and 10% bonus is given to female workers.Write a program \n",
        " enter the salary of the employee and sex of the employee. If the salary of the employee is lessthan Rs.10,000 then the employee gets an extra 2% bonus on salary. \n",
        "calculate the bonus that has to be given to the employee and display the salary that the employee will get.'''\n",
        "\n",
        "a=input(\"Enter the employee name:  \")\n",
        "b=input(\"Enter the sex(Male/Female):  \")\n",
        "c=input(\"Enter the salary:  \")\n",
        "n=int(input())\n",
        "m=input()\n",
        "if(m==\"male\" ):\n",
        "  if(n<10,000):\n",
        "     bonus=7*n/100\n",
        "     print(n+bonus,\"bonus\",bonus)\n",
        "  else:\n",
        "    print(n+(5*n/100))\n",
        "else:\n",
        "  if(n<10,000):\n",
        "     bonus=12*n/100\n",
        "     print(n+bonus,\"bonus\",bonus)\n",
        "  else:\n",
        "    print(n+(10*n/100))\n",
        "    \n",
        "\n",
        "\n",
        "\n"
      ],
      "metadata": {
        "id": "1pSHCnYIOqvJ",
        "colab": {
          "base_uri": "https://localhost:8080/"
        },
        "outputId": "f4cb6cd0-7767-46c2-9c79-4b793ed50fe0"
      },
      "execution_count": null,
      "outputs": [
        {
          "output_type": "stream",
          "name": "stdout",
          "text": [
            "Enter the employee name:  shivani\n",
            "Enter the sex(Male/Female):  female\n",
            "Enter the salary:  10000\n",
            "5000\n",
            "6000\n",
            "5600.0 bonus 600.0\n"
          ]
        }
      ]
    },
    {
      "cell_type": "code",
      "source": [
        "'''Arjun and suma are started fighting about their heights. Help them to find who is taller. Read the heights in cm, find who is taller and display the heights in inches.\n",
        "input:\n",
        "15(arjun height)\n",
        "15.6(suma height)\n",
        "output:\n",
        "suma is taller than arjun\n",
        "Arjun height is 5.90\n",
        "suma height is 6.10'''\n",
        "\n",
        "Arjun_height=float(input(\"Enter the height in cm:  \"))\n",
        "Suma_height=float(input(\"Enter the height in cm:  \"))\n",
        "inches1=Arjun_height/2.54\n",
        "inches2=Suma_height/2.54\n",
        "print(inches1)\n",
        "print(inches2)\n",
        "if inches1>inches2:\n",
        "   print(\"Arjun is taller than Suma\")\n",
        "else:\n",
        "  print(\"Suma is taller than Arjun\")\n"
      ],
      "metadata": {
        "colab": {
          "base_uri": "https://localhost:8080/"
        },
        "id": "aUJmBQSnweO3",
        "outputId": "6f0f6a96-17b2-402e-e437-0c59622347d7"
      },
      "execution_count": null,
      "outputs": [
        {
          "output_type": "stream",
          "name": "stdout",
          "text": [
            "Enter the height in cm:  15\n",
            "Enter the height in cm:  15.6\n",
            "5.905511811023622\n",
            "6.141732283464567\n",
            "Suma is taller than Arjun\n"
          ]
        }
      ]
    },
    {
      "cell_type": "code",
      "source": [
        "''' Write a program to find a year \"Leap year\" or not'''\n",
        "year=int(input(\"Enter the year:  \"))\n",
        "if(year%4 == 0):\n",
        "   print(\"It is a leapyear\")\n",
        "else:\n",
        "     print(\"It is not a leapyear\")\n",
        "\n",
        "\n"
      ],
      "metadata": {
        "colab": {
          "base_uri": "https://localhost:8080/"
        },
        "id": "eN0dbsKR0It4",
        "outputId": "17ebaf26-b388-4332-a018-3148cc175fe2"
      },
      "execution_count": null,
      "outputs": [
        {
          "output_type": "stream",
          "name": "stdout",
          "text": [
            "Enter the year:  2024\n",
            "It is a leapyear\n"
          ]
        }
      ]
    },
    {
      "cell_type": "code",
      "source": [
        "''' Rohit has 'A' chocolates and mohit has 'B' chocolates. Rohit will do the following action 'K' times. If Rohit has one or more chocolates, eat one of his chocolates.\n",
        " Otherwise, If mohit has one or more chocolates, eat one of mohit's chocolates. If they both have no chocolates, do nothing.\n",
        "Input:\n",
        "A=211\n",
        "B=232\n",
        "K=56\n",
        "output: 155   232\n",
        "Input:\n",
        "A=93\n",
        "B=256\n",
        "K=102\n",
        "Output: 0     247'''\n",
        "\n",
        "\n",
        "\n"
      ],
      "metadata": {
        "id": "xiItGDZl3sqz"
      },
      "execution_count": null,
      "outputs": []
    },
    {
      "cell_type": "code",
      "source": [
        "'''A triple of numbers is said to be poor when two of those numbers are equal but the other number is different from those numbers are equal but the other number is different from those two numbers.\n",
        "Input:\n",
        "A=23\n",
        "B=18\n",
        "C=34\n",
        "Output: not poor\n",
        "Input:\n",
        "A=39\n",
        "B=28\n",
        "C=39\n",
        "Outour: poor'''\n",
        "n=int(input())\n",
        "m=int(input())\n",
        "l=int(input())\n",
        "if(n==m or m==l or n==l):\n",
        "  print(\"poor\")\n",
        "else:\n",
        "  print(\"not poor\")"
      ],
      "metadata": {
        "id": "XhL7HAQd9EY1",
        "colab": {
          "base_uri": "https://localhost:8080/"
        },
        "outputId": "6b042746-6ae1-4090-c4a8-ffd7c97e22c0"
      },
      "execution_count": null,
      "outputs": [
        {
          "output_type": "stream",
          "name": "stdout",
          "text": [
            "39\n",
            "28\n",
            "39\n",
            "poor\n"
          ]
        }
      ]
    },
    {
      "cell_type": "code",
      "source": [
        "#An elephant decide to visit his friend. It turned out that the elephant's house is located at point 0 and his friend's house is located at point x(x>0) of the coordinate line. In one step the elephant  can move\n",
        "#1,2,3,4 or 5 positions forward. Determine What is the minimum number of steps he need to make in order to get to his friend's house.\n",
        "#input:\n",
        "#X=458\n",
        "#Output:\n",
        "#steps:32\n",
        "#input:\n",
        "#x=762\n",
        "#Output:\n",
        "#steps:153"
      ],
      "metadata": {
        "id": "rkFUJhZjAgFd"
      },
      "execution_count": null,
      "outputs": []
    },
    {
      "cell_type": "code",
      "source": [
        "#A=[29,52,73,18,24]\n",
        "#B=[102,118,52,76,14]\n",
        "#merge A & B(use extend)\n",
        "#sort\n",
        "#Find max(max())\n",
        "#find min(Min())\n",
        "#Find no.of occurances of '52'\n",
        "\n",
        "A=[29,52,73,18,24]\n",
        "B=[102,118,52,76,14]\n",
        "C=A+B\n",
        "print(C)\n",
        "C.sort(reverse=True)\n",
        "print(\"sortedlist\", C)\n",
        "Maxvalue = max(C)\n",
        "print(Maxvalue)\n",
        "Minvalue = min(C)\n",
        "print(Minvalue)\n",
        "print(A.count(52))\n",
        "print(B.count(52))\n",
        "print(C.count(52))\n"
      ],
      "metadata": {
        "colab": {
          "base_uri": "https://localhost:8080/"
        },
        "id": "qCkMtVOjJxW1",
        "outputId": "40d13ad9-710e-4644-8dfc-151abb1522e5"
      },
      "execution_count": null,
      "outputs": [
        {
          "output_type": "stream",
          "name": "stdout",
          "text": [
            "[29, 52, 73, 18, 24, 102, 118, 52, 76, 14]\n",
            "sortedlist [118, 102, 76, 73, 52, 52, 29, 24, 18, 14]\n",
            "118\n",
            "14\n",
            "1\n",
            "1\n",
            "2\n"
          ]
        }
      ]
    },
    {
      "cell_type": "code",
      "source": [
        "#write a python program to check wheather a triangle is Equilateral,isolateral, scalane.\n",
        "\n",
        "S=int(input())\n",
        "B=int(input())\n",
        "C=int(input())\n",
        "if S==B==C:\n",
        "  print(\"equilateral triangle\")\n",
        "elif S==B!=C:\n",
        "  print(\"isolateral triangle\")\n",
        "elif S!=B!=C:\n",
        "  print(\"scalene triangle\")\n"
      ],
      "metadata": {
        "colab": {
          "base_uri": "https://localhost:8080/"
        },
        "id": "N61zK5sbQl77",
        "outputId": "ee736833-8757-483f-d15f-1c1e6eeb8ccc"
      },
      "execution_count": null,
      "outputs": [
        {
          "output_type": "stream",
          "name": "stdout",
          "text": [
            "60\n",
            "60\n",
            "45\n",
            "isolateral triangle\n"
          ]
        }
      ]
    },
    {
      "cell_type": "code",
      "source": [
        "Day 3\n"
      ],
      "metadata": {
        "id": "0typJgllSaMt"
      },
      "execution_count": null,
      "outputs": []
    },
    {
      "cell_type": "code",
      "source": [
        "course='Python'  #string slicing\n",
        "       #012345\n",
        "    #-6-5-4-3-2-1 (in negatives)\n",
        "print(course[2:])\n",
        "print(course[-6:-1])"
      ],
      "metadata": {
        "colab": {
          "base_uri": "https://localhost:8080/"
        },
        "id": "tl_yMFOcVaHS",
        "outputId": "9d3fa28d-44b6-40b6-c23f-46210ae056e3"
      },
      "execution_count": null,
      "outputs": [
        {
          "output_type": "stream",
          "name": "stdout",
          "text": [
            "thon\n",
            "Pytho\n"
          ]
        }
      ]
    },
    {
      "cell_type": "code",
      "source": [
        "course='Python'  #upper() = uppercase conversion   \n",
        "newcourse=course.upper()\n",
        "print(course)\n",
        "print(newcourse)"
      ],
      "metadata": {
        "colab": {
          "base_uri": "https://localhost:8080/"
        },
        "id": "BLy0Ae3fVlkJ",
        "outputId": "913fe70a-d43c-445d-ce17-0d99cd854c19"
      },
      "execution_count": null,
      "outputs": [
        {
          "output_type": "stream",
          "name": "stdout",
          "text": [
            "Python\n",
            "PYTHON\n"
          ]
        }
      ]
    },
    {
      "cell_type": "code",
      "source": [
        "course='Python For Beginners'\n",
        "index=course.find(\"For\")\n",
        "print(index)\n",
        "print(course)"
      ],
      "metadata": {
        "colab": {
          "base_uri": "https://localhost:8080/"
        },
        "id": "pI_Hr7aFVoIJ",
        "outputId": "e88186c6-cd7d-470d-a1d3-0d5bf6386195"
      },
      "execution_count": null,
      "outputs": [
        {
          "output_type": "stream",
          "name": "stdout",
          "text": [
            "7\n",
            "Python For Beginners\n"
          ]
        }
      ]
    },
    {
      "cell_type": "code",
      "source": [
        "#while loop\n",
        "count=0\n",
        "while (count < 5):\n",
        "  count= count + 1\n",
        "  print(\"GITAM\")"
      ],
      "metadata": {
        "colab": {
          "base_uri": "https://localhost:8080/"
        },
        "id": "Q0CVBtUvVzz4",
        "outputId": "40f6a11b-81cb-4e3f-d2f4-af6d6ef497f7"
      },
      "execution_count": null,
      "outputs": [
        {
          "output_type": "stream",
          "name": "stdout",
          "text": [
            "GITAM\n",
            "GITAM\n",
            "GITAM\n",
            "GITAM\n",
            "GITAM\n"
          ]
        }
      ]
    },
    {
      "cell_type": "code",
      "source": [
        "'''for loop with range()\n",
        "                iterator\n",
        "for variable in range():       (end)   (start,end)    (start,stop,list)\n",
        "          stmts\n",
        "'''\n",
        "for i in range(5,9):\n",
        "  print(i)"
      ],
      "metadata": {
        "colab": {
          "base_uri": "https://localhost:8080/"
        },
        "id": "eHEDXVkxV7NQ",
        "outputId": "5c292c85-4408-4cf9-a0d4-2717aea1d4cf"
      },
      "execution_count": null,
      "outputs": [
        {
          "output_type": "stream",
          "name": "stdout",
          "text": [
            "5\n",
            "6\n",
            "7\n",
            "8\n"
          ]
        }
      ]
    },
    {
      "cell_type": "code",
      "source": [
        "'''list1=[20,13,5]\n",
        "for i in list1:\n",
        "  print(i)'''\n",
        "\n",
        "string='Python'\n",
        "for i in string:\n",
        "  print(i)"
      ],
      "metadata": {
        "colab": {
          "base_uri": "https://localhost:8080/"
        },
        "id": "aH3TbLpjWKJR",
        "outputId": "c7539056-e07c-4533-bd69-74165c349da4"
      },
      "execution_count": null,
      "outputs": [
        {
          "output_type": "stream",
          "name": "stdout",
          "text": [
            "P\n",
            "y\n",
            "t\n",
            "h\n",
            "o\n",
            "n\n"
          ]
        }
      ]
    },
    {
      "cell_type": "code",
      "source": [
        "x='I Am Shiva@14'\n",
        "l=[\"@\",\"#\",\" \",\"$\",\"%\",\"^\",\"&\"]\n",
        "for i in x:\n",
        "  if i.isupper():\n",
        "    x=x.replace(i,'1')\n",
        "  elif i.islower():\n",
        "    x=x.replace(i,'0')\n",
        "  else:\n",
        "    if i in l:\n",
        "      x=x.replace(i,\"*\")\n",
        "    print(x)"
      ],
      "metadata": {
        "colab": {
          "base_uri": "https://localhost:8080/"
        },
        "id": "RTWrCYg1WMZW",
        "outputId": "0c40300d-f752-4253-9f2c-593c6c7e4543"
      },
      "execution_count": null,
      "outputs": [
        {
          "output_type": "stream",
          "name": "stdout",
          "text": [
            "1*Am*Shiva@14\n",
            "1*10*Shiva@14\n",
            "1*10*10000*14\n",
            "1*10*10000*14\n",
            "1*10*10000*14\n"
          ]
        }
      ]
    },
    {
      "cell_type": "code",
      "source": [
        "\"\"\"Read a sentence from user.Replace all capital letters with '1' and small letters with '0', If it is a special characters, replace it with '*'\"\"\"\n",
        "\n"
      ],
      "metadata": {
        "id": "DjYbBh8HSdCv"
      },
      "execution_count": null,
      "outputs": []
    },
    {
      "cell_type": "code",
      "source": [
        "\"\"\"Read a sentence from the user and return the list of substrings in sorted order, where substrings are words of sentence.\"\"\"\n"
      ],
      "metadata": {
        "id": "dlPxl7dwUCym"
      },
      "execution_count": null,
      "outputs": []
    },
    {
      "cell_type": "code",
      "source": [
        "\"\"\" The following is the list of places and the kind of transportation available in those places.Identify and display \n",
        "i>The place and most unique means of transport available there.\n",
        "x=[car,truck,bus,flight]\n",
        "y=[carts,bus,flight,truck,car]\n",
        "ii>common mode of transportation in both places.\"\"\"\n"
      ],
      "metadata": {
        "id": "W7CguPYBUTkr"
      },
      "execution_count": null,
      "outputs": []
    },
    {
      "cell_type": "code",
      "source": [
        "colors=[\"Red, Blue, Pink, Yellow, Green\"]\n",
        "n=len(colors)\n",
        "i=0\n",
        "while(i<n):\n",
        "  print(colors[i])\n",
        "  i=i+1\n",
        "else:\n",
        "  print(\"Done!\")"
      ],
      "metadata": {
        "colab": {
          "base_uri": "https://localhost:8080/"
        },
        "id": "bDwZYO5oZmGw",
        "outputId": "4e807035-17c8-4955-ff81-db52a19032fb"
      },
      "execution_count": null,
      "outputs": [
        {
          "output_type": "stream",
          "name": "stdout",
          "text": [
            "Red, Blue, Pink, Yellow, Green\n",
            "Done!\n"
          ]
        }
      ]
    },
    {
      "cell_type": "code",
      "source": [
        "for i in range(0,16):\n",
        "  for j in range(0,7):\n",
        "    print(i*j, end=\" \")\n",
        "  print()"
      ],
      "metadata": {
        "colab": {
          "base_uri": "https://localhost:8080/"
        },
        "id": "adj7Qopkaqa5",
        "outputId": "a646694e-f646-4292-e852-ea6bf340556a"
      },
      "execution_count": null,
      "outputs": [
        {
          "output_type": "stream",
          "name": "stdout",
          "text": [
            "0 0 0 0 0 0 0 \n",
            "0 1 2 3 4 5 6 \n",
            "0 2 4 6 8 10 12 \n",
            "0 3 6 9 12 15 18 \n",
            "0 4 8 12 16 20 24 \n",
            "0 5 10 15 20 25 30 \n",
            "0 6 12 18 24 30 36 \n",
            "0 7 14 21 28 35 42 \n",
            "0 8 16 24 32 40 48 \n",
            "0 9 18 27 36 45 54 \n",
            "0 10 20 30 40 50 60 \n",
            "0 11 22 33 44 55 66 \n",
            "0 12 24 36 48 60 72 \n",
            "0 13 26 39 52 65 78 \n",
            "0 14 28 42 56 70 84 \n",
            "0 15 30 45 60 75 90 \n"
          ]
        }
      ]
    },
    {
      "cell_type": "code",
      "source": [
        "for i in range(1,7):\n",
        "  for j in range(1,7):\n",
        "    print(i*j)"
      ],
      "metadata": {
        "colab": {
          "base_uri": "https://localhost:8080/"
        },
        "id": "FatLylyic2f_",
        "outputId": "0479c91d-2706-42bf-81a6-9df58b1f000e"
      },
      "execution_count": null,
      "outputs": [
        {
          "output_type": "stream",
          "name": "stdout",
          "text": [
            "1\n",
            "2\n",
            "3\n",
            "4\n",
            "5\n",
            "6\n",
            "2\n",
            "4\n",
            "6\n",
            "8\n",
            "10\n",
            "12\n",
            "3\n",
            "6\n",
            "9\n",
            "12\n",
            "15\n",
            "18\n",
            "4\n",
            "8\n",
            "12\n",
            "16\n",
            "20\n",
            "24\n",
            "5\n",
            "10\n",
            "15\n",
            "20\n",
            "25\n",
            "30\n",
            "6\n",
            "12\n",
            "18\n",
            "24\n",
            "30\n",
            "36\n"
          ]
        }
      ]
    },
    {
      "cell_type": "code",
      "source": [
        "\"\"\" Chetan has N friends. He promised to give each of his N friends a pair of shoes(one left & one right shoe). He was about to go to the market to buy shoes where he realised, he already\n",
        "    has m left shoes. Find the least no.of extra shoes he needs to by to ensure that he can give a pair of shoes to each of his N friends. For ex, if N=2, M=4, he already has 4 left shoes,\n",
        "    so he must purchase 2 extra right shoes to f.\"\"\"\n",
        "\n",
        "    \n",
        "\n"
      ],
      "metadata": {
        "id": "_pe0eyg0i-f4"
      },
      "execution_count": null,
      "outputs": []
    },
    {
      "cell_type": "code",
      "source": [
        "DAY-04"
      ],
      "metadata": {
        "id": "_AkCJq4k7nIp"
      },
      "execution_count": null,
      "outputs": []
    },
    {
      "cell_type": "code",
      "source": [
        "\"\"\"Write a program to calculate square root of a number. Demonstrate the use of break and continue statements.\"\"\"\n",
        "import math as m\n",
        "n=int(input())\n",
        "while(True):\n",
        "  if n<0:\n",
        "    break\n",
        "  elif n==0:\n",
        "    n+=1\n",
        "    continue\n",
        "  else:\n",
        "    print(m.sqrt(n))\n",
        "    break\n",
        "     \n",
        "\n",
        "\n",
        "\n"
      ],
      "metadata": {
        "colab": {
          "base_uri": "https://localhost:8080/"
        },
        "id": "mIQtzM7m7yU9",
        "outputId": "7edc97f6-5bdf-4272-996a-ccfda45b1083"
      },
      "execution_count": 10,
      "outputs": [
        {
          "output_type": "stream",
          "name": "stdout",
          "text": [
            "5\n",
            "2.23606797749979\n"
          ]
        }
      ]
    },
    {
      "cell_type": "code",
      "source": [
        "\"\"\" Dhoni was given a list of positive integers. His task is to find the leaders in the list. An element of list is leader. If it is greater than are equal to all the elements to the right side. Also,the\n",
        "right most element is leader. Help dhoni to solve it.\n",
        "Input:\n",
        "7 4 5 7 3\n",
        "output:\n",
        "7 7 3\n",
        "Input:\n",
        "1 2 5 4 0\n",
        "output:\n",
        "5 4 0 \"\"\"\n",
        "\n",
        "\n"
      ],
      "metadata": {
        "id": "th9owECUIx0Y"
      },
      "execution_count": null,
      "outputs": []
    },
    {
      "cell_type": "code",
      "source": [
        "\"\"\"String:\n",
        "-convert a integer to char\n",
        "-convert character to integer\n",
        "-slicing\n",
        "-specifing stride\n",
        "-interpolating variable into string\n",
        "-isalnum()\n",
        "-isalpha()\n",
        "-isidentifier()\"\"\"\n",
        "\n",
        "print(chr(115))\n",
        "chardata=\"s\"\n",
        "print(ord(chardata))\n",
        "x=\"Shivani\"\n",
        "s1=slice(0,4)\n",
        "print(x[s1])\n",
        "s2=slice(1,5,2)\n",
        "print(x[s2])\n",
        "print(x.isalnum())\n",
        "print(x.isalpha())\n",
        "print(x.isidentifier())\n"
      ],
      "metadata": {
        "colab": {
          "base_uri": "https://localhost:8080/"
        },
        "id": "SZD76yKCOtxJ",
        "outputId": "3a9e710d-9caf-4e73-b4ce-941e55e6bb8b"
      },
      "execution_count": 43,
      "outputs": [
        {
          "output_type": "stream",
          "name": "stdout",
          "text": [
            "s\n",
            "115\n",
            "Shiv\n",
            "hv\n",
            "True\n",
            "True\n",
            "True\n"
          ]
        }
      ]
    },
    {
      "cell_type": "code",
      "source": [
        "\"\"\"using f-string interpolation\"\"\"\n",
        "\n",
        "n1 = 'sathya'\n",
        "n2 = 'I am an artist'\n",
        "print(f'Hello!my name is {n1}, {n2}')"
      ],
      "metadata": {
        "colab": {
          "base_uri": "https://localhost:8080/"
        },
        "id": "2UWTHFdxk57A",
        "outputId": "9150a027-d967-49a0-d211-a8fbd33f0b27"
      },
      "execution_count": 52,
      "outputs": [
        {
          "output_type": "stream",
          "name": "stdout",
          "text": [
            "Hello!my name is sathya, I am an artist\n"
          ]
        }
      ]
    },
    {
      "cell_type": "code",
      "source": [
        "\"\"\"Any 10 operations using tuples\"\"\"\n",
        "\n",
        "tpl=()\n",
        "print(tpl)\n",
        "access_tuple = ('s', 'e', 1, 6, [7, 'a', 'l', 'm'])\n",
        "print(access_tuple[0])\n",
        "print(access_tuple[4][1])\n",
        "print(len(access_tuple))"
      ],
      "metadata": {
        "colab": {
          "base_uri": "https://localhost:8080/"
        },
        "id": "M-oAomxqn8PP",
        "outputId": "ed487203-cd75-4b48-8ead-65afa3885f0c"
      },
      "execution_count": 8,
      "outputs": [
        {
          "output_type": "stream",
          "name": "stdout",
          "text": [
            "()\n",
            "s\n",
            "a\n",
            "5\n"
          ]
        }
      ]
    },
    {
      "cell_type": "code",
      "source": [
        "\"\"\"Any 10 operations on lists\"\"\"\n",
        "\n",
        "num_list=[1,4,6,2]\n",
        "num_list2=[4,5,6]\n",
        "num_list.pop()\n",
        "print(num_list)\n",
        "print(len(num_list))\n",
        "print(max(num_list))\n",
        "print(min(num_list))\n",
        "for element in num_list:\n",
        "  print(element)\n",
        "num_list.reverse\n",
        "print(num_list)\n",
        "print(num_list.count(20))\n",
        "print(num_list.index(6))\n",
        "print(sum(num_list))\n",
        "print(sorted(num_list))\n",
        "\n"
      ],
      "metadata": {
        "colab": {
          "base_uri": "https://localhost:8080/"
        },
        "id": "ifFjJqies1f_",
        "outputId": "bdcc8fdb-71ab-489c-b192-55382556eda4"
      },
      "execution_count": 1,
      "outputs": [
        {
          "output_type": "stream",
          "name": "stdout",
          "text": [
            "[1, 4, 6]\n",
            "3\n",
            "6\n",
            "1\n",
            "1\n",
            "4\n",
            "6\n",
            "[1, 4, 6]\n",
            "0\n",
            "2\n",
            "11\n",
            "[1, 4, 6]\n"
          ]
        }
      ]
    },
    {
      "cell_type": "code",
      "source": [
        "\"\"\"In many jurisdictions a small deposit is added to drink contains to encourage people to recycle them.In one particular jurisdiction, drink containers holding one litre or less have a $0.10 deposit,\n",
        "and drink containers holing more than one litre have a $0.25 deposit. Write a program that reads the no.of containers of each size from the user. Your program should continue by computing and displaying\n",
        "the refund that will be receiver for returning those contains. Format the output so that it includes the dollar($) sign and always displays exactly two decimal places."
      ],
      "metadata": {
        "id": "xT-QpKDzNQMJ"
      },
      "execution_count": null,
      "outputs": []
    }
  ]
}