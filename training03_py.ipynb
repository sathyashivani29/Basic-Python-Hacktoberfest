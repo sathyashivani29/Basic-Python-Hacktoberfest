{
  "nbformat": 4,
  "nbformat_minor": 0,
  "metadata": {
    "colab": {
      "provenance": [],
      "authorship_tag": "ABX9TyOPKK8gVrAKJBcbuiYnEBhu",
      "include_colab_link": true
    },
    "kernelspec": {
      "name": "python3",
      "display_name": "Python 3"
    },
    "language_info": {
      "name": "python"
    }
  },
  "cells": [
    {
      "cell_type": "markdown",
      "metadata": {
        "id": "view-in-github",
        "colab_type": "text"
      },
      "source": [
        "<a href=\"https://colab.research.google.com/github/sathyashivani29/Basic-Python-Hacktoberfest/blob/main/training03_py.ipynb\" target=\"_parent\"><img src=\"https://colab.research.google.com/assets/colab-badge.svg\" alt=\"Open In Colab\"/></a>"
      ]
    },
    {
      "cell_type": "code",
      "execution_count": null,
      "metadata": {
        "colab": {
          "base_uri": "https://localhost:8080/"
        },
        "id": "30z-gvspwhZH",
        "outputId": "1f15bb55-ea52-48bc-c0ff-6fdd93e7e59b"
      },
      "outputs": [
        {
          "name": "stdout",
          "output_type": "stream",
          "text": [
            "Addition of given two numbers is <built-in function sum>\n",
            "Enter num1: 29\n",
            "Enter num2: 33\n"
          ]
        }
      ],
      "source": [
        "#with parameters without return statements\n",
        "\n",
        "def addition(x,y):\n",
        "  sum=x+y\n",
        "print(\"Addition of given two numbers is\",sum)\n",
        "\n",
        "num1=int(input(\"Enter num1: \"))\n",
        "num2=int(input(\"Enter num2: \"))\n",
        "addition(num1,num2)"
      ]
    },
    {
      "cell_type": "code",
      "source": [
        "#without parameters with return statements\n",
        "\n",
        "def addition(i,j):\n",
        "  sum=i+j\n",
        "  return sum\n",
        "  \n",
        "num1=int(input(\"Enter num1: \"))\n",
        "num2=int(input(\"Enter num2: \"))\n",
        "print(\"Addition of given two numbers is\", addition(num1,num2))"
      ],
      "metadata": {
        "colab": {
          "base_uri": "https://localhost:8080/"
        },
        "id": "Ef2mkvaNwtFP",
        "outputId": "51bd55b9-792f-4db8-8e43-efa52f0d4b58"
      },
      "execution_count": null,
      "outputs": [
        {
          "output_type": "stream",
          "name": "stdout",
          "text": [
            "Enter num1: 14\n",
            "Enter num2: 16\n",
            "Addition of given two numbers is 30\n"
          ]
        }
      ]
    },
    {
      "cell_type": "code",
      "source": [
        "#write a function histogram that takes string as parameter and generates a frequency of charactes contained in it.\n",
        "\n",
        "def Histogram(S):\n",
        "  E=dict()\n",
        "  for C in S:\n",
        "    if C not in E:\n",
        "      E[C] = 2\n",
        "    else:\n",
        "        E[C] = E[C]+1\n",
        "        return E\n",
        "H=Histogram(\"ELEPHANT\")\n",
        "print(H)     \n",
        "\n",
        "\n",
        "\n"
      ],
      "metadata": {
        "colab": {
          "base_uri": "https://localhost:8080/"
        },
        "id": "StX-ANZRzdp_",
        "outputId": "496ad13f-9e87-4718-9b06-44e4874396f4"
      },
      "execution_count": null,
      "outputs": [
        {
          "output_type": "stream",
          "name": "stdout",
          "text": [
            "{'E': 3, 'L': 2}\n"
          ]
        }
      ]
    },
    {
      "cell_type": "code",
      "source": [
        "#write a program it prints and store square of numbers into a dictionary using list comprehension.\n",
        "\n",
        "my_dict={'Shivani':19,'Sanghavi':20,'Sathwik':20,'Surya':20, 'Harshith':22,'Lasya':19}\n",
        "new_dict = {key: value * 2 for (key,value) in my_dict.items()}\n",
        "print(new_dict)\n",
        "\n",
        "\n",
        "\n",
        "\n"
      ],
      "metadata": {
        "colab": {
          "base_uri": "https://localhost:8080/"
        },
        "id": "eZy53jrLzbSZ",
        "outputId": "cefb8ee4-f78f-43dc-f8ce-a2141d9148dc"
      },
      "execution_count": null,
      "outputs": [
        {
          "output_type": "stream",
          "name": "stdout",
          "text": [
            "{'Shivani': 38, 'Sanghavi': 40, 'Sathwik': 40, 'Surya': 40, 'Harshith': 44, 'Lasya': 38}\n"
          ]
        }
      ]
    },
    {
      "cell_type": "code",
      "source": [
        "#conversion of an octal number to binary number.\n",
        "\n",
        "def convert(octal):\n",
        "    print(\"Equivalent Binary Number: \", end=\"\")\n",
        "    for i in range(len(octal)):\n",
        "        switcher = {\n",
        "            0: \"000\",\n",
        "            1: \"001\",\n",
        "            2: \"010\",\n",
        "            3: \"011\",\n",
        "            4: \"100\",\n",
        "            5: \"101\",\n",
        "            6: \"110\",\n",
        "            7: \"111\"\n",
        "        }\n",
        "        print(switcher.get(int(octal[i]), \"Invalid Octal Number\"), end=\"\")\n",
        "\n",
        "\n",
        "octal = list(input(\"Insert an octal number: \"))\n",
        "convert(octal)"
      ],
      "metadata": {
        "colab": {
          "base_uri": "https://localhost:8080/"
        },
        "id": "O_YLEku313qD",
        "outputId": "11a321b1-f473-40b7-f5d8-4ffc1a02e3d8"
      },
      "execution_count": null,
      "outputs": [
        {
          "output_type": "stream",
          "name": "stdout",
          "text": [
            "Insert an octal number: 1416\n",
            "Equivalent Binary Number: 001100001110"
          ]
        }
      ]
    },
    {
      "cell_type": "code",
      "source": [
        "#Write a program to evaluate a polynomial of one variable i.e.x if the value of x is 2.\n",
        "\n",
        "poly = [2, -6, 2, -1]\n",
        "x = 2\n",
        "n = len(poly)\n",
        "result = 0\n",
        "for i in range(n):\n",
        "\tSum = poly[i]\n",
        "\tfor j in range(n - i - 1):\n",
        "\t\tSum = Sum * x\n",
        "\tresult = result + Sum\n",
        "print(result)"
      ],
      "metadata": {
        "colab": {
          "base_uri": "https://localhost:8080/"
        },
        "id": "V_tL61Aw1OgH",
        "outputId": "81bcb9be-4dda-4595-e891-a0ed85b29e33"
      },
      "execution_count": null,
      "outputs": [
        {
          "output_type": "stream",
          "name": "stdout",
          "text": [
            "-5\n"
          ]
        }
      ]
    },
    {
      "cell_type": "code",
      "source": [
        "'''Dhoni and jadeja are brothers, Dhoni is a computer hacker, one day jadeja tries to break the door of digital lock of Dhoni's room but the door only accepts a perfect number as input.\n",
        "Help jadeja to open Dhoni's room. Use function to get the input.'''\n",
        "\n",
        "def perfect_number(S):\n",
        "  i=2\n",
        "  sum=0\n",
        "  while(i<S):\n",
        "    if(S%i == 0):\n",
        "      sum=sum + i\n",
        "  i=i+1\n",
        "  return sum\n",
        "\n",
        "N= int(input(\"Enter the number: \"))\n",
        "\n",
        "if(N == perfect_number(N)):\n",
        "  print(S, \"is a perfect number\")\n",
        "else:\n",
        "  print(S,\"is not a perfect number\")"
      ],
      "metadata": {
        "id": "uELaNB_6xzcS"
      },
      "execution_count": null,
      "outputs": []
    },
    {
      "cell_type": "code",
      "source": [
        "#Write the function calci_distance(x1y1,x2y2) to calculate the distance between two points represented by point1(x1,y1) and point2(x2,y2)\n",
        "\n",
        "x1=int(input(\"Enter the number x1: \"))\n",
        "x2=int(input(\"Enter the number x2: \"))\n",
        "y1=int(input(\"Enter the number y1: \"))\n",
        "y2=int(input(\"Enter the number y2: \"))\n",
        "\n",
        "calci_distance=((x2-x1)**2 + (y2-y1)**2)\n",
        "print(calci_distance)"
      ],
      "metadata": {
        "id": "MggW4iH_11Zo",
        "colab": {
          "base_uri": "https://localhost:8080/"
        },
        "outputId": "cc243ae1-9c41-464f-f99c-5ef9bce17001"
      },
      "execution_count": null,
      "outputs": [
        {
          "output_type": "stream",
          "name": "stdout",
          "text": [
            "Enter the number x1: 5\n",
            "Enter the number x2: 6\n",
            "Enter the number y1: 6\n",
            "Enter the number y2: 4\n",
            "5\n"
          ]
        }
      ]
    },
    {
      "cell_type": "code",
      "source": [
        "#Raina is a graduate students he is practising to crack interview. One of his friend suggested to perform a program to print an amstrong or not using a function can you help Raina.\n",
        "\n",
        "num=int(input(\"Enter a number: \"))\n",
        "sum=0\n",
        "temp=num\n",
        "while temp>0:\n",
        " digit=temp%10\n",
        " sum+=digit**3\n",
        " temp//=10\n",
        "if num==sum:\n",
        " print(num,\"is an Armstrong number\")\n",
        "else:\n",
        " print(num,\"is not an Armstrong number\")"
      ],
      "metadata": {
        "id": "afKEWG7F3niw",
        "colab": {
          "base_uri": "https://localhost:8080/"
        },
        "outputId": "34f0499b-ec86-4293-e176-52910aa059c4"
      },
      "execution_count": null,
      "outputs": [
        {
          "output_type": "stream",
          "name": "stdout",
          "text": [
            "Enter a number: 55\n",
            "55 is not an Armstrong number\n"
          ]
        }
      ]
    },
    {
      "cell_type": "code",
      "source": [
        "# create a list  out side and update the list inside with the help of append function.\n",
        "\n",
        "my_list = [14,29,16,33,8,1]\n",
        "my_list.append(49)\n",
        "print(my_list)"
      ],
      "metadata": {
        "id": "jtWgRB_J1KKt",
        "colab": {
          "base_uri": "https://localhost:8080/"
        },
        "outputId": "9182d09f-33a8-48c9-c892-84aa2160d0a3"
      },
      "execution_count": null,
      "outputs": [
        {
          "output_type": "stream",
          "name": "stdout",
          "text": [
            "[14, 29, 16, 33, 8, 1, 49]\n"
          ]
        }
      ]
    },
    {
      "cell_type": "code",
      "source": [
        "#local scope, Global scope\n",
        "p=20\n",
        "def Demo():\n",
        "  q=10\n",
        "  print(\"The value of local variable q: \",q)\n",
        "  print(\"The value of global variable p:\",p)\n",
        "  "
      ],
      "metadata": {
        "id": "KgabuLBl9Z6k"
      },
      "execution_count": null,
      "outputs": []
    },
    {
      "cell_type": "code",
      "source": [
        "#Write a program to write the prime numbers in the range of 0 to 100 into a file.\n",
        "\n",
        "for i in range(2,101):\n",
        "  for j in range(2,101):\n",
        "      if i%j==0:\n",
        "         break\n",
        "  if i==j:\n",
        "    print(i,end=\",\")"
      ],
      "metadata": {
        "id": "NH2b1KC9QdyR",
        "colab": {
          "base_uri": "https://localhost:8080/"
        },
        "outputId": "f4c6d71b-c8be-46e4-e25a-da0c5acdcb1c"
      },
      "execution_count": null,
      "outputs": [
        {
          "output_type": "stream",
          "name": "stdout",
          "text": [
            "2,3,5,7,11,13,17,19,23,29,31,37,41,43,47,53,59,61,67,71,73,79,83,89,97,"
          ]
        }
      ]
    },
    {
      "cell_type": "code",
      "source": [
        "#Write a program to add few intergers into a file and display the sum of the integers.\n",
        "\n",
        "f = open(\"demo.txt\",\"rt\")\n",
        "line = f.read()\n",
        "line.split(\",\")\n",
        "print(line.split(\",\"))\n",
        "total = sum([int(num) for num in line.split(',')])\n",
        "print(total)"
      ],
      "metadata": {
        "id": "pAnU7Rm7dgzg",
        "colab": {
          "base_uri": "https://localhost:8080/"
        },
        "outputId": "c9b7ea42-32a7-4913-ec9a-d20613f2058a"
      },
      "execution_count": null,
      "outputs": [
        {
          "output_type": "stream",
          "name": "stdout",
          "text": [
            "['2', '4', '6', '8', '10\\n']\n",
            "30\n"
          ]
        }
      ]
    }
  ]
}